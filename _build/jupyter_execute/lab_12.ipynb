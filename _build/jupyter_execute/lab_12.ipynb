{
 "cells": [
  {
   "cell_type": "markdown",
   "metadata": {
    "editable": true,
    "id": "Omm4n3FmPHlF",
    "slideshow": {
     "slide_type": "slide"
    },
    "tags": []
   },
   "source": [
    "# Lab 12\n",
    "\n",
    "_[General notebook information](https://computing-in-context.afeld.me/notebooks.html)_\n",
    "\n",
    "You will be given a bunch of instructions without (fully) understanding what they do yet. That's ok."
   ]
  },
  {
   "cell_type": "markdown",
   "metadata": {
    "editable": true,
    "slideshow": {
     "slide_type": "slide"
    },
    "tags": []
   },
   "source": [
    "## Setup\n",
    "\n",
    "[Install](https://computing-in-context.afeld.me/notebooks.html#installing-packages) [`lxml`](https://anaconda.org/conda-forge/lxml) and [`requests`](https://anaconda.org/conda-forge/requests) packages."
   ]
  },
  {
   "cell_type": "markdown",
   "metadata": {
    "editable": true,
    "slideshow": {
     "slide_type": "slide"
    },
    "tags": []
   },
   "source": [
    "## Scraping\n",
    "\n",
    "Common tools:\n",
    "\n",
    "- [Beautiful Soup package](https://realpython.com/beautiful-soup-web-scraper-python/)\n",
    "- [pandas' `read_html()`](https://pandas.pydata.org/docs/user_guide/io.html#html)"
   ]
  },
  {
   "cell_type": "markdown",
   "metadata": {
    "editable": true,
    "slideshow": {
     "slide_type": "subslide"
    },
    "tags": []
   },
   "source": [
    "Pull [Wikipedia's list of countries by area](https://en.wikipedia.org/wiki/List_of_countries_and_dependencies_by_area#Countries_and_dependencies_by_area) into a DataFrame using `read_html()`."
   ]
  },
  {
   "cell_type": "code",
   "execution_count": null,
   "metadata": {
    "editable": true,
    "slideshow": {
     "slide_type": "-"
    },
    "tags": [
     "solution"
    ]
   },
   "outputs": [],
   "source": [
    "# your code here"
   ]
  },
  {
   "cell_type": "markdown",
   "metadata": {
    "editable": true,
    "slideshow": {
     "slide_type": "slide"
    },
    "tags": []
   },
   "source": [
    "## FEC data"
   ]
  },
  {
   "cell_type": "markdown",
   "metadata": {
    "editable": true,
    "slideshow": {
     "slide_type": ""
    },
    "tags": []
   },
   "source": [
    "We'll make an API call in the browser.\n",
    "\n",
    "1. Visit https://www.fec.gov/data/candidates/\n",
    "1. [Open Developer Tools](https://developer.mozilla.org/en-US/docs/Learn/Common_questions/What_are_browser_developer_tools#how_to_open_the_devtools_in_your_browser).\n",
    "1. Reload the page.\n",
    "1. In the Network tab's request list:\n",
    "   1. Filter to Fetch/XHR/AJAX (terminology will differ by browser)\n",
    "   1. Right-click the API call row.\n",
    "1. Click `Open in New Tab`. You will see an error.\n",
    "1. In the URL bar, replace the `api_key` value with `DEMO_KEY`. The URL should therefore contain `api_key=DEMO_KEY`.\n",
    "\n",
    "You should see a big wall of JSON data.\n"
   ]
  },
  {
   "cell_type": "markdown",
   "metadata": {
    "editable": true,
    "slideshow": {
     "slide_type": "subslide"
    },
    "tags": []
   },
   "source": [
    "### Querying\n",
    "\n",
    "Retrieve candidates who have raised funds. [API documentation.](https://api.open.fec.gov/developers/)"
   ]
  },
  {
   "cell_type": "code",
   "execution_count": null,
   "metadata": {
    "editable": true,
    "slideshow": {
     "slide_type": "-"
    },
    "tags": [
     "solution"
    ]
   },
   "outputs": [],
   "source": [
    "# your code here"
   ]
  },
  {
   "cell_type": "markdown",
   "metadata": {
    "editable": true,
    "slideshow": {
     "slide_type": ""
    },
    "tags": []
   },
   "source": [
    "Turn those results into a DataFrame."
   ]
  },
  {
   "cell_type": "code",
   "execution_count": null,
   "metadata": {
    "editable": true,
    "slideshow": {
     "slide_type": "-"
    },
    "tags": [
     "solution"
    ]
   },
   "outputs": [],
   "source": [
    "# your code here"
   ]
  },
  {
   "cell_type": "markdown",
   "metadata": {
    "editable": true,
    "slideshow": {
     "slide_type": "slide"
    },
    "tags": []
   },
   "source": [
    "## Pagination\n",
    "\n",
    "Get _all_ [NYC film permits](https://data.cityofnewyork.us/City-Government/Film-Permits/tg4x-b46p/about_data) through [the API](https://dev.socrata.com/foundry/data.cityofnewyork.us/tg4x-b46p). [Documentation on paging.](https://dev.socrata.com/docs/paging)\n",
    "\n",
    "**Hints**\n",
    "\n",
    "You'll probably want to create DataFrames for each page, then \"concatenate\" them. Here's a structure you can start with:"
   ]
  },
  {
   "cell_type": "code",
   "execution_count": null,
   "metadata": {
    "editable": true,
    "slideshow": {
     "slide_type": "-"
    },
    "tags": [
     "solution"
    ]
   },
   "outputs": [],
   "source": [
    "# in a loop\n",
    "#     get the first/next page of data\n",
    "#     combine with the data that's already been retrieved\n",
    "#     if there are fewer than the default number of records returned, stop the loop"
   ]
  },
  {
   "cell_type": "markdown",
   "metadata": {
    "editable": true,
    "slideshow": {
     "slide_type": "slide"
    },
    "tags": []
   },
   "source": [
    "## GitHub\n",
    "\n",
    "If you miss a step, don't worry - some are more important than others, and it's possible to do them out of order. Ask for help if you need.\n",
    "\n",
    "1. [Sign up.](https://github.com/signup)\n",
    "    - If you have an account already, [sign in](https://github.com/login).\n",
    "    - A [Free plan](https://github.com/pricing) is sufficient.\n",
    "1. [Open](https://code.visualstudio.com/docs/editor/workspaces#_how-do-i-open-a-vs-code-workspace) the folder/repository from [Lecture 23](https://computing-in-context.afeld.me/lecture_23.html) in VSCode.\n",
    "1. Click [`Publish Branch`](https://code.visualstudio.com/docs/sourcecontrol/intro-to-git#_using-branches).\n",
    "1. [Allow signing in with GitHub](https://code.visualstudio.com/docs/sourcecontrol/github#_authenticating-with-an-existing-repository), if prompted.\n",
    "1. Click `Publish to GitHub public repository`.\n",
    "    1. [Public vs. private](https://docs.github.com/en/repositories/creating-and-managing-repositories/about-repositories#about-repository-visibility)\n",
    "1. [Have VSCode periodically fetch](https://code.visualstudio.com/docs/sourcecontrol/overview#_remotes), if asked.\n",
    "1. Visit the repository on GitHub.\n",
    "    1. Click into the files.\n",
    "1. Make a change in the repository in VSCode (locally).\n",
    "1. Commit the change.\n",
    "1. [Push (a.k.a. \"sync\")](https://code.visualstudio.com/docs/sourcecontrol/overview#_remotes) the change to GitHub.\n",
    "1. Open the repository on GitHub, which should look something like this:\n",
    "\n",
    "    ![repository file list](img/repo_initial.png)"
   ]
  },
  {
   "cell_type": "markdown",
   "metadata": {
    "editable": true,
    "slideshow": {
     "slide_type": "slide"
    },
    "tags": []
   },
   "source": [
    "## [JupyterBook](https://jupyterbook.org/)\n",
    "\n",
    "- [Static website builder](https://jupyterbook.org/en/stable/publish/web.html)\n",
    "- Used to build the [course site](https://computing-in-context.afeld.me/)\n",
    "- Setting up for [Project 3](https://computing-in-context.afeld.me/project_3.html), which we'll [kick off in Lecture 24](https://computing-in-context.afeld.me/lecture_24.html#project-3)\n",
    "- From here on, we recommend following [these instructions on the web](https://computing-in-context.afeld.me/lab_12.html#jupyterbook) rather than through a downloaded notebook, which:\n",
    "    - Makes copying-and-pasting easier\n",
    "    - Ensures you're seeing the latest version of the instructions"
   ]
  },
  {
   "cell_type": "markdown",
   "metadata": {
    "editable": true,
    "slideshow": {
     "slide_type": "subslide"
    },
    "tags": []
   },
   "source": [
    "### Install\n",
    "\n",
    "[Install `jupyter-book` via Anaconda.](https://computing-in-context.afeld.me/notebooks.html#installing-packages) Make sure you've done the `conda-forge` step.\n",
    "\n",
    "The install might take a while; you can continue up until [building the site](#build-the-site) in the meantime."
   ]
  },
  {
   "cell_type": "markdown",
   "metadata": {
    "editable": true,
    "slideshow": {
     "slide_type": "subslide"
    },
    "tags": []
   },
   "source": [
    "### [Config](https://jupyterbook.org/en/stable/customize/config.html)\n",
    "\n",
    "Using VSCode (you _could_ use JupyterLab), create a minimal `_config.yml` file containing the following:\n",
    "\n",
    "```yaml\n",
    "title: Computing in Context - NAME\n",
    "author: NAME\n",
    "\n",
    "only_build_toc_files: true\n",
    "\n",
    "execute:\n",
    "  execute_notebooks: \"off\"\n",
    "\n",
    "sphinx:\n",
    "  config:\n",
    "    # https://myst-parser.readthedocs.io/en/latest/syntax/cross-referencing.html#implicit-targets\n",
    "    myst_heading_anchors: 4\n",
    "    # https://jupyterbook.org/en/stable/interactive/interactive.html#plotly\n",
    "    html_js_files:\n",
    "      - https://cdnjs.cloudflare.com/ajax/libs/require.js/2.3.4/require.min.js\n",
    "    suppress_warnings: [\"mystnb.unknown_mime_type\"]\n",
    "```\n",
    "\n",
    "Replace the `NAME` with your name. [More about YAML](https://www.cloudbees.com/blog/yaml-tutorial-everything-you-need-get-started), which rhymes with \"mammal\"."
   ]
  },
  {
   "cell_type": "markdown",
   "metadata": {
    "editable": true,
    "slideshow": {
     "slide_type": "subslide"
    },
    "tags": []
   },
   "source": [
    "### [Table of contents](https://jupyterbook.org/customize/toc.html)\n",
    "\n",
    "1. Move/copy the Lab 12 notebook to this folder, if it's not there already.\n",
    "1. Create a `_toc.yml` containing the following:\n",
    "\n",
    "    ```yaml\n",
    "    format: jb-book\n",
    "    root: lab_12\n",
    "    chapters:\n",
    "      - file: project_3\n",
    "    ```"
   ]
  },
  {
   "cell_type": "markdown",
   "metadata": {
    "editable": true,
    "slideshow": {
     "slide_type": "subslide"
    },
    "tags": []
   },
   "source": [
    "### [Build the site](https://jupyterbook.org/en/stable/start/build.html#build-your-books-html)\n",
    "\n",
    "[Open a terminal](https://code.visualstudio.com/docs/terminal/getting-started) and run:\n",
    "\n",
    "```sh\n",
    "jupyter-book build --all .\n",
    "```\n",
    "\n",
    "This converted your notebooks to HTML."
   ]
  },
  {
   "cell_type": "markdown",
   "metadata": {
    "editable": true,
    "slideshow": {
     "slide_type": "subslide"
    },
    "tags": []
   },
   "source": [
    "#### Troubleshooting\n",
    "\n",
    "If you get an error like `jupyter-book: command not found`:\n",
    "\n",
    "1. Double-check you've done [the install](#install).\n",
    "1. Windows: Confirm you're using Git BASH, not [Command Prompt](https://www.lifewire.com/command-prompt-2625840) or [Powershell](https://learn.microsoft.com/en-us/powershell/scripting/overview).\n",
    "1. Run `conda activate base` to [activate the environment](https://docs.conda.io/projects/conda/en/latest/user-guide/tasks/manage-environments.html#activating-an-environment)."
   ]
  },
  {
   "cell_type": "markdown",
   "metadata": {
    "editable": true,
    "slideshow": {
     "slide_type": "subslide"
    },
    "tags": []
   },
   "source": [
    "### View the site (locally)\n",
    "\n",
    "1. It will output \"Your book's HTML pages are here … paste this line directly into your browser bar\".\n",
    "1. Copy that [`file://` URL](https://en.wikipedia.org/wiki/File_URI_scheme) into your web browser.\n",
    "1. You should see your notebook as a JupterBook site.\n",
    "\n",
    "    ![JupyterBook](img/book_local.png)"
   ]
  },
  {
   "cell_type": "markdown",
   "metadata": {
    "editable": true,
    "slideshow": {
     "slide_type": "slide"
    },
    "tags": []
   },
   "source": [
    "## Commit changes\n",
    "\n",
    "1. [View the diff](https://code.visualstudio.com/docs/sourcecontrol/overview#_viewing-diffs)\n",
    "1. [Ignore](https://docs.github.com/en/get-started/getting-started-with-git/ignoring-files#configuring-ignored-files-for-a-single-repository) generated files: Create a `.gitignore` file containing the following:\n",
    "\n",
    "    ```\n",
    "    .ipynb_checkpoints/\n",
    "    _build/\n",
    "    ```\n",
    "\n",
    "1. View the diff again\n",
    "1. Commit\n",
    "1. Push\n",
    "1. The GitHub repository should then look like this:\n",
    "\n",
    "    ![repository with JupyterBook files](img/repo_book.png)"
   ]
  },
  {
   "cell_type": "markdown",
   "metadata": {
    "editable": true,
    "slideshow": {
     "slide_type": ""
    },
    "tags": []
   },
   "source": [
    "---\n",
    "\n",
    "Submit via Gradescope."
   ]
  }
 ],
 "metadata": {
  "celltoolbar": "Slideshow",
  "kernelspec": {
   "display_name": "Python [conda env:computing-in-context] *",
   "language": "python",
   "name": "conda-env-computing-in-context-py"
  },
  "language_info": {
   "codemirror_mode": {
    "name": "ipython",
    "version": 3
   },
   "file_extension": ".py",
   "mimetype": "text/x-python",
   "name": "python",
   "nbconvert_exporter": "python",
   "pygments_lexer": "ipython3",
   "version": "3.12.7"
  },
  "rise": {
   "scroll": true
  }
 },
 "nbformat": 4,
 "nbformat_minor": 4
}