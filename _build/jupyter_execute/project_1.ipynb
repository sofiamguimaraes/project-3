{
 "cells": [
  {
   "cell_type": "markdown",
   "id": "2fc274fc",
   "metadata": {},
   "source": [
    "# Project 1"
   ]
  },
  {
   "cell_type": "markdown",
   "id": "b443750f-dc54-4d41-aae3-ccfcf460657a",
   "metadata": {},
   "source": [
    "2010 - 2016 School Safety Report\n",
    "keep only borough & safety score columns\n",
    "In this cell, we load the dataset from a public source."
   ]
  },
  {
   "cell_type": "code",
   "execution_count": 54,
   "id": "2c05f217-fd8a-454d-9bbd-b9c040d36530",
   "metadata": {},
   "outputs": [
    {
     "data": {
      "text/html": [
       "<div>\n",
       "<style scoped>\n",
       "    .dataframe tbody tr th:only-of-type {\n",
       "        vertical-align: middle;\n",
       "    }\n",
       "\n",
       "    .dataframe tbody tr th {\n",
       "        vertical-align: top;\n",
       "    }\n",
       "\n",
       "    .dataframe thead th {\n",
       "        text-align: right;\n",
       "    }\n",
       "</style>\n",
       "<table border=\"1\" class=\"dataframe\">\n",
       "  <thead>\n",
       "    <tr style=\"text-align: right;\">\n",
       "      <th></th>\n",
       "      <th>school_year</th>\n",
       "      <th>building_code</th>\n",
       "      <th>dbn</th>\n",
       "      <th>location_name</th>\n",
       "      <th>location_code</th>\n",
       "      <th>address</th>\n",
       "      <th>borough</th>\n",
       "      <th>geographical_district_code</th>\n",
       "      <th>register</th>\n",
       "      <th>building_name</th>\n",
       "      <th>...</th>\n",
       "      <th>borough_name</th>\n",
       "      <th>postcode</th>\n",
       "      <th>latitude</th>\n",
       "      <th>longitude</th>\n",
       "      <th>community_board</th>\n",
       "      <th>community_council</th>\n",
       "      <th>census_tract</th>\n",
       "      <th>bin</th>\n",
       "      <th>bbl</th>\n",
       "      <th>nta</th>\n",
       "    </tr>\n",
       "  </thead>\n",
       "  <tbody>\n",
       "    <tr>\n",
       "      <th>0</th>\n",
       "      <td>2015-16</td>\n",
       "      <td>K415</td>\n",
       "      <td>84K736</td>\n",
       "      <td>New American Academy Charter School</td>\n",
       "      <td>K736</td>\n",
       "      <td>5800 TILDEN AVENUE</td>\n",
       "      <td>K</td>\n",
       "      <td>18.0</td>\n",
       "      <td>261.0</td>\n",
       "      <td>5800 TILDEN AVENUE CONSOLIDATED LOCATION</td>\n",
       "      <td>...</td>\n",
       "      <td>BROOKLYN</td>\n",
       "      <td>11203.0</td>\n",
       "      <td>40.648657</td>\n",
       "      <td>-73.922171</td>\n",
       "      <td>17.0</td>\n",
       "      <td>45.0</td>\n",
       "      <td>936.0</td>\n",
       "      <td>3104598.0</td>\n",
       "      <td>3.047420e+09</td>\n",
       "      <td>Rugby-Remsen Village                          ...</td>\n",
       "    </tr>\n",
       "    <tr>\n",
       "      <th>1</th>\n",
       "      <td>2015-16</td>\n",
       "      <td>M488</td>\n",
       "      <td>NaN</td>\n",
       "      <td>231-249 EAST 56 STREET CONSOLIDATED LOCATION</td>\n",
       "      <td>NaN</td>\n",
       "      <td>231-249 EAST 56 STREET</td>\n",
       "      <td>M</td>\n",
       "      <td>2.0</td>\n",
       "      <td>2015.0</td>\n",
       "      <td>231-249 EAST 56 STREET CONSOLIDATED LOCATION</td>\n",
       "      <td>...</td>\n",
       "      <td>MANHATTAN</td>\n",
       "      <td>10022.0</td>\n",
       "      <td>40.759240</td>\n",
       "      <td>-73.967203</td>\n",
       "      <td>6.0</td>\n",
       "      <td>4.0</td>\n",
       "      <td>108.0</td>\n",
       "      <td>1088892.0</td>\n",
       "      <td>1.013300e+09</td>\n",
       "      <td>Turtle Bay-East Midtown                       ...</td>\n",
       "    </tr>\n",
       "    <tr>\n",
       "      <th>2</th>\n",
       "      <td>2015-16</td>\n",
       "      <td>K195</td>\n",
       "      <td>22K195</td>\n",
       "      <td>P.S. 195 Manhattan Beach</td>\n",
       "      <td>K195</td>\n",
       "      <td>131 IRWIN STREET</td>\n",
       "      <td>K</td>\n",
       "      <td>22.0</td>\n",
       "      <td>458.0</td>\n",
       "      <td>NaN</td>\n",
       "      <td>...</td>\n",
       "      <td>BROOKLYN</td>\n",
       "      <td>11235.0</td>\n",
       "      <td>40.579451</td>\n",
       "      <td>-73.943819</td>\n",
       "      <td>15.0</td>\n",
       "      <td>48.0</td>\n",
       "      <td>620.0</td>\n",
       "      <td>3246519.0</td>\n",
       "      <td>3.087520e+09</td>\n",
       "      <td>Sheepshead Bay-Gerritsen Beach-Manhattan Beach...</td>\n",
       "    </tr>\n",
       "    <tr>\n",
       "      <th>3</th>\n",
       "      <td>2015-16</td>\n",
       "      <td>K415</td>\n",
       "      <td>18K629</td>\n",
       "      <td>Cultural Academy for the Arts and Sciences</td>\n",
       "      <td>K629</td>\n",
       "      <td>5800 TILDEN AVENUE</td>\n",
       "      <td>K</td>\n",
       "      <td>18.0</td>\n",
       "      <td>354.0</td>\n",
       "      <td>5800 TILDEN AVENUE CONSOLIDATED LOCATION</td>\n",
       "      <td>...</td>\n",
       "      <td>BROOKLYN</td>\n",
       "      <td>11203.0</td>\n",
       "      <td>40.648657</td>\n",
       "      <td>-73.922171</td>\n",
       "      <td>17.0</td>\n",
       "      <td>45.0</td>\n",
       "      <td>936.0</td>\n",
       "      <td>3104598.0</td>\n",
       "      <td>3.047420e+09</td>\n",
       "      <td>Rugby-Remsen Village                          ...</td>\n",
       "    </tr>\n",
       "    <tr>\n",
       "      <th>4</th>\n",
       "      <td>2015-16</td>\n",
       "      <td>M075</td>\n",
       "      <td>03M075</td>\n",
       "      <td>P.S. 075 Emily Dickinson</td>\n",
       "      <td>M075</td>\n",
       "      <td>735 WEST END AVENUE</td>\n",
       "      <td>M</td>\n",
       "      <td>3.0</td>\n",
       "      <td>569.0</td>\n",
       "      <td>735 WEST END AVENUE CONSOLDATED LOCATION</td>\n",
       "      <td>...</td>\n",
       "      <td>MANHATTAN</td>\n",
       "      <td>10025.0</td>\n",
       "      <td>40.795157</td>\n",
       "      <td>-73.973292</td>\n",
       "      <td>7.0</td>\n",
       "      <td>6.0</td>\n",
       "      <td>183.0</td>\n",
       "      <td>1034190.0</td>\n",
       "      <td>1.012530e+09</td>\n",
       "      <td>Upper West Side                               ...</td>\n",
       "    </tr>\n",
       "  </tbody>\n",
       "</table>\n",
       "<p>5 rows × 34 columns</p>\n",
       "</div>"
      ],
      "text/plain": [
       "  school_year building_code      dbn  \\\n",
       "0     2015-16          K415  84K736    \n",
       "1     2015-16          M488      NaN   \n",
       "2     2015-16          K195   22K195   \n",
       "3     2015-16          K415   18K629   \n",
       "4     2015-16          M075   03M075   \n",
       "\n",
       "                                  location_name location_code  \\\n",
       "0           New American Academy Charter School         K736    \n",
       "1  231-249 EAST 56 STREET CONSOLIDATED LOCATION           NaN   \n",
       "2                      P.S. 195 Manhattan Beach          K195   \n",
       "3    Cultural Academy for the Arts and Sciences          K629   \n",
       "4                      P.S. 075 Emily Dickinson          M075   \n",
       "\n",
       "                  address borough  geographical_district_code  register  \\\n",
       "0      5800 TILDEN AVENUE       K                        18.0     261.0   \n",
       "1  231-249 EAST 56 STREET       M                         2.0    2015.0   \n",
       "2        131 IRWIN STREET       K                        22.0     458.0   \n",
       "3      5800 TILDEN AVENUE       K                        18.0     354.0   \n",
       "4     735 WEST END AVENUE       M                         3.0     569.0   \n",
       "\n",
       "                                  building_name  ...  borough_name postcode  \\\n",
       "0      5800 TILDEN AVENUE CONSOLIDATED LOCATION  ...     BROOKLYN   11203.0   \n",
       "1  231-249 EAST 56 STREET CONSOLIDATED LOCATION  ...     MANHATTAN  10022.0   \n",
       "2                                           NaN  ...     BROOKLYN   11235.0   \n",
       "3      5800 TILDEN AVENUE CONSOLIDATED LOCATION  ...     BROOKLYN   11203.0   \n",
       "4     735 WEST END AVENUE CONSOLDATED LOCATION   ...     MANHATTAN  10025.0   \n",
       "\n",
       "    latitude  longitude  community_board  community_council  census_tract  \\\n",
       "0  40.648657 -73.922171             17.0               45.0         936.0   \n",
       "1  40.759240 -73.967203              6.0                4.0         108.0   \n",
       "2  40.579451 -73.943819             15.0               48.0         620.0   \n",
       "3  40.648657 -73.922171             17.0               45.0         936.0   \n",
       "4  40.795157 -73.973292              7.0                6.0         183.0   \n",
       "\n",
       "         bin           bbl                                                nta  \n",
       "0  3104598.0  3.047420e+09  Rugby-Remsen Village                          ...  \n",
       "1  1088892.0  1.013300e+09  Turtle Bay-East Midtown                       ...  \n",
       "2  3246519.0  3.087520e+09  Sheepshead Bay-Gerritsen Beach-Manhattan Beach...  \n",
       "3  3104598.0  3.047420e+09  Rugby-Remsen Village                          ...  \n",
       "4  1034190.0  1.012530e+09  Upper West Side                               ...  \n",
       "\n",
       "[5 rows x 34 columns]"
      ]
     },
     "execution_count": 54,
     "metadata": {},
     "output_type": "execute_result"
    }
   ],
   "source": [
    "import pandas as pd\n",
    "project = pd.read_csv(\"https://data.cityofnewyork.us/resource/qybk-bjjc.csv\")\n",
    "project.head()"
   ]
  },
  {
   "cell_type": "markdown",
   "id": "c89a393b-4314-4cf6-9faf-71788d48d824",
   "metadata": {},
   "source": [
    "then filter out unnecessary columns to focus on `borough_name` and `major_n`, which represent the borough names and the numeric values of major crime committed in schools in each borough. "
   ]
  },
  {
   "cell_type": "code",
   "execution_count": 58,
   "id": "e43d0116-a460-4205-b291-2c09ddc455c1",
   "metadata": {},
   "outputs": [],
   "source": [
    "project = project[['borough_name', 'major_n']]"
   ]
  },
  {
   "cell_type": "markdown",
   "id": "b147af87-da82-4bbe-882b-e0ac546e9c61",
   "metadata": {},
   "source": [
    "convert crimes to numeric and calculate mean, median, and mode"
   ]
  },
  {
   "cell_type": "code",
   "execution_count": 60,
   "id": "9cf28d3c-2308-4bf8-935e-7d82ce80e49f",
   "metadata": {},
   "outputs": [
    {
     "name": "stdout",
     "output_type": "stream",
     "text": [
      "0.4444444444444444\n",
      "0.0\n",
      "0    0.0\n",
      "Name: major_n, dtype: float64\n"
     ]
    }
   ],
   "source": [
    "project['major_n'] = pd.to_numeric(project['major_n'], errors='coerce')\n",
    "mean_value = project['major_n'].mean()\n",
    "median_value = project['major_n'].median()\n",
    "mode_value = project['major_n'].mode()\n",
    "\n",
    "print(mean_value)\n",
    "print(median_value)\n",
    "print(mode_value)"
   ]
  },
  {
   "cell_type": "markdown",
   "id": "25e5fc32-e86b-4f58-8df0-c9f11f9381bc",
   "metadata": {},
   "source": [
    "The mean value of `major_n` is approximately 0.44. This low average indicates that many values in this column are close to zero, suggesting either a sparse dataset or one where lower values are frequent.The median value is 0.0, meaning that at least half of the entries in `major_n` are zero. This reinforces the idea that zero values are prevalent in the data, potentially indicating a large number of records with no activity or counts in this column.\n",
    "The mode is also 0.0, which is the most frequently occurring value in `major_n`. This further confirms that zero is highly common in this dataset, possibly indicating that the `major_n` column includes many entries with no recorded activity.\n",
    "\n",
    "These statistics suggest that a significant portion of the data might be concentrated around zero values, and it could be helpful to examine the distribution further or filter out zeros to focus on more substantial entries."
   ]
  },
  {
   "cell_type": "markdown",
   "id": "ea870b6d-5497-4f53-888c-26a6dec1fcba",
   "metadata": {},
   "source": [
    "calculate the mean, median, and mode manually using only Python’s standard library. \n",
    "first convert the column data to a list and use Python operations to calculate each statistic. This manual method allows us to see the structure of these calculations more clearly."
   ]
  },
  {
   "cell_type": "code",
   "execution_count": 62,
   "id": "e49fdff2-478b-466d-af4e-91f61c64d7f1",
   "metadata": {},
   "outputs": [
    {
     "name": "stdout",
     "output_type": "stream",
     "text": [
      "0.4444444444444444\n",
      "0.0\n",
      "0.0\n"
     ]
    }
   ],
   "source": [
    "values = project['major_n'].dropna().tolist()\n",
    "mean = sum(values) / len(values)\n",
    "print(mean)\n",
    "\n",
    "sorted_values = sorted(values)\n",
    "n = len(values)\n",
    "if n % 2 == 0:\n",
    "    median = (sorted_values[n // 2 - 1] + sorted_values[n // 2]) / 2\n",
    "else:\n",
    "    median = sorted_values[n // 2]\n",
    "print(median)\n",
    "\n",
    "counts = {}\n",
    "for value in values:\n",
    "    counts[value] = counts.get(value, 0) + 1\n",
    "mode = max(counts, key=counts.get)\n",
    "print(mode)\n"
   ]
  },
  {
   "cell_type": "markdown",
   "id": "b28b6421-419a-4dc3-9fca-4c46e7518994",
   "metadata": {},
   "source": [
    "To avoid repetition and better understand each borough's aggregate contribution, we group the data by `borough_name` and sum the `major_n` values. By grouping, we create a cleaner dataset with a single row per borough, reflecting the total values of `major_n` across all records for that borough. This approach allows for a focused and easily interpreted visualization."
   ]
  },
  {
   "cell_type": "code",
   "execution_count": 64,
   "id": "7ef88ac0-1ef3-4b5f-8171-0dfa85c18259",
   "metadata": {},
   "outputs": [],
   "source": [
    "project = project.dropna(subset=['major_n'])\n",
    "project = project[project['major_n'] > 0]  \n",
    "project_grouped = project.groupby('borough_name')['major_n'].sum().reset_index()\n",
    "values = project_grouped['major_n'].tolist()\n",
    "boroughs = project_grouped['borough_name'].tolist()\n",
    "max_value = max(values)\n"
   ]
  },
  {
   "cell_type": "markdown",
   "id": "02dfdf13-492a-4040-a756-7a5cf647771c",
   "metadata": {},
   "source": [
    "create a sparkline (using stars `*`) to represent each borough's relative `major_n` value compared to the maximum in the dataset. Each star `*` represents a scaled portion of the total value for that borough, with up to 10 stars indicating the maximum value.  The more stars a borough has, the higher its `major_n` value relative to other boroughs. This simple visualization allows us to quickly see which boroughs have higher or lower values at a glance.\n",
    "\n"
   ]
  },
  {
   "cell_type": "code",
   "execution_count": 66,
   "id": "a3d6a059-e6ef-4e4b-8642-1c63ee41a7e8",
   "metadata": {},
   "outputs": [
    {
     "name": "stdout",
     "output_type": "stream",
     "text": [
      "BROOKLYN : **********\n",
      "MANHATTAN: *****\n"
     ]
    }
   ],
   "source": [
    "\n",
    "for borough, value in zip(boroughs, values):\n",
    "    stars = int((value / max_value) * 10) \n",
    "    print(f\"{borough}: {'*' * stars}\")"
   ]
  },
  {
   "cell_type": "markdown",
   "id": "3131280b-6393-41ba-a1aa-f69d2f50d7a0",
   "metadata": {},
   "source": [
    "Brooklyn has the highest number of major crimes in schools, shown by the maximum of 10 stars.\n",
    "Manhattan’s count of major crimes in schools is half of Brooklyn's, represented by 5 stars."
   ]
  }
 ],
 "metadata": {
  "kernelspec": {
   "display_name": "Python 3 (ipykernel)",
   "language": "python",
   "name": "python3"
  },
  "language_info": {
   "codemirror_mode": {
    "name": "ipython",
    "version": 3
   },
   "file_extension": ".py",
   "mimetype": "text/x-python",
   "name": "python",
   "nbconvert_exporter": "python",
   "pygments_lexer": "ipython3",
   "version": "3.12.4"
  }
 },
 "nbformat": 4,
 "nbformat_minor": 5
}